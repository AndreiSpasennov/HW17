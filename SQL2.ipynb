{
 "cells": [
  {
   "cell_type": "code",
   "execution_count": 1,
   "id": "f642183d-cffb-4a61-8713-b3a4fadffcf7",
   "metadata": {
    "tags": []
   },
   "outputs": [
    {
     "name": "stdout",
     "output_type": "stream",
     "text": [
      "Requirement already satisfied: ipython-sql in /opt/conda/lib/python3.10/site-packages (0.5.0)\n",
      "Requirement already satisfied: prettytable in /opt/conda/lib/python3.10/site-packages (from ipython-sql) (3.7.0)\n",
      "Requirement already satisfied: sqlparse in /opt/conda/lib/python3.10/site-packages (from ipython-sql) (0.4.4)\n",
      "Requirement already satisfied: ipython-genutils in /opt/conda/lib/python3.10/site-packages (from ipython-sql) (0.2.0)\n",
      "Requirement already satisfied: ipython in /opt/conda/lib/python3.10/site-packages (from ipython-sql) (8.11.0)\n",
      "Requirement already satisfied: sqlalchemy>=2.0 in /opt/conda/lib/python3.10/site-packages (from ipython-sql) (2.0.7)\n",
      "Requirement already satisfied: six in /opt/conda/lib/python3.10/site-packages (from ipython-sql) (1.16.0)\n",
      "Requirement already satisfied: typing-extensions>=4.2.0 in /opt/conda/lib/python3.10/site-packages (from sqlalchemy>=2.0->ipython-sql) (4.5.0)\n",
      "Requirement already satisfied: greenlet!=0.4.17 in /opt/conda/lib/python3.10/site-packages (from sqlalchemy>=2.0->ipython-sql) (2.0.2)\n",
      "Requirement already satisfied: pygments>=2.4.0 in /opt/conda/lib/python3.10/site-packages (from ipython->ipython-sql) (2.14.0)\n",
      "Requirement already satisfied: traitlets>=5 in /opt/conda/lib/python3.10/site-packages (from ipython->ipython-sql) (5.9.0)\n",
      "Requirement already satisfied: backcall in /opt/conda/lib/python3.10/site-packages (from ipython->ipython-sql) (0.2.0)\n",
      "Requirement already satisfied: pickleshare in /opt/conda/lib/python3.10/site-packages (from ipython->ipython-sql) (0.7.5)\n",
      "Requirement already satisfied: stack-data in /opt/conda/lib/python3.10/site-packages (from ipython->ipython-sql) (0.6.2)\n",
      "Requirement already satisfied: matplotlib-inline in /opt/conda/lib/python3.10/site-packages (from ipython->ipython-sql) (0.1.6)\n",
      "Requirement already satisfied: decorator in /opt/conda/lib/python3.10/site-packages (from ipython->ipython-sql) (5.1.1)\n",
      "Requirement already satisfied: pexpect>4.3 in /opt/conda/lib/python3.10/site-packages (from ipython->ipython-sql) (4.8.0)\n",
      "Requirement already satisfied: prompt-toolkit!=3.0.37,<3.1.0,>=3.0.30 in /opt/conda/lib/python3.10/site-packages (from ipython->ipython-sql) (3.0.38)\n",
      "Requirement already satisfied: jedi>=0.16 in /opt/conda/lib/python3.10/site-packages (from ipython->ipython-sql) (0.18.2)\n",
      "Requirement already satisfied: wcwidth in /opt/conda/lib/python3.10/site-packages (from prettytable->ipython-sql) (0.2.6)\n",
      "Requirement already satisfied: parso<0.9.0,>=0.8.0 in /opt/conda/lib/python3.10/site-packages (from jedi>=0.16->ipython->ipython-sql) (0.8.3)\n",
      "Requirement already satisfied: ptyprocess>=0.5 in /opt/conda/lib/python3.10/site-packages (from pexpect>4.3->ipython->ipython-sql) (0.7.0)\n",
      "Requirement already satisfied: pure-eval in /opt/conda/lib/python3.10/site-packages (from stack-data->ipython->ipython-sql) (0.2.2)\n",
      "Requirement already satisfied: executing>=1.2.0 in /opt/conda/lib/python3.10/site-packages (from stack-data->ipython->ipython-sql) (1.2.0)\n",
      "Requirement already satisfied: asttokens>=2.1.0 in /opt/conda/lib/python3.10/site-packages (from stack-data->ipython->ipython-sql) (2.2.1)\n",
      "\u001b[33mWARNING: There was an error checking the latest version of pip.\u001b[0m\u001b[33m\n",
      "\u001b[0m"
     ]
    }
   ],
   "source": [
    "!pip install ipython-sql"
   ]
  },
  {
   "cell_type": "code",
   "execution_count": 2,
   "id": "9c46f04d-81db-4477-b58b-659ae1cac47b",
   "metadata": {
    "tags": []
   },
   "outputs": [],
   "source": [
    "%load_ext sql"
   ]
  },
  {
   "cell_type": "code",
   "execution_count": 3,
   "id": "fa89ad1e-05a9-48b7-a04a-3e966eae57de",
   "metadata": {
    "tags": []
   },
   "outputs": [
    {
     "name": "stdout",
     "output_type": "stream",
     "text": [
      "POSTGRESQL_USER=reader\n",
      "POSTGRESQL_PASSWORD=Miba2021\n"
     ]
    }
   ],
   "source": [
    "!env | grep POST"
   ]
  },
  {
   "cell_type": "code",
   "execution_count": 4,
   "id": "4b230ed1-b328-42ca-b735-92ae01d1f8cb",
   "metadata": {
    "tags": []
   },
   "outputs": [],
   "source": [
    "import os\n",
    "USER = os.environ['POSTGRESQL_USER']\n",
    "PASSWORD = os.environ['POSTGRESQL_PASSWORD']\n",
    "POSTGRESQL_HOST = '10.129.0.25'\n",
    "DBASE_NAME = 'demo'"
   ]
  },
  {
   "cell_type": "code",
   "execution_count": 5,
   "id": "c8bb769c-9ee1-4560-b6a1-3f84bb72c57c",
   "metadata": {},
   "outputs": [],
   "source": [
    "CONNECT_DATA = 'postgresql://{}:{}@{}/{}'.format(\n",
    "    USER,\n",
    "    PASSWORD,\n",
    "    POSTGRESQL_HOST,\n",
    "    DBASE_NAME\n",
    ")"
   ]
  },
  {
   "cell_type": "code",
   "execution_count": 6,
   "id": "af538fb4-901c-48cd-9a79-075cd1f7bcf7",
   "metadata": {},
   "outputs": [],
   "source": [
    "# task 1.1"
   ]
  },
  {
   "cell_type": "code",
   "execution_count": 7,
   "id": "854aed52-4007-421e-ab1b-023697129211",
   "metadata": {
    "tags": []
   },
   "outputs": [
    {
     "name": "stdout",
     "output_type": "stream",
     "text": [
      "3 rows affected.\n"
     ]
    },
    {
     "data": {
      "text/html": [
       "<table>\n",
       "    <thead>\n",
       "        <tr>\n",
       "            <th>passenger_name</th>\n",
       "            <th>city</th>\n",
       "        </tr>\n",
       "    </thead>\n",
       "    <tbody>\n",
       "        <tr>\n",
       "            <td>ALEKSEY GERASIMOV</td>\n",
       "            <td>Anapa</td>\n",
       "        </tr>\n",
       "        <tr>\n",
       "            <td>ALEKSEY GERASIMOV</td>\n",
       "            <td>Moscow</td>\n",
       "        </tr>\n",
       "        <tr>\n",
       "            <td>ALEKSEY GERASIMOV</td>\n",
       "            <td>Belgorod</td>\n",
       "        </tr>\n",
       "    </tbody>\n",
       "</table>"
      ],
      "text/plain": [
       "[('ALEKSEY GERASIMOV', 'Anapa'),\n",
       " ('ALEKSEY GERASIMOV', 'Moscow'),\n",
       " ('ALEKSEY GERASIMOV', 'Belgorod')]"
      ]
     },
     "execution_count": 7,
     "metadata": {},
     "output_type": "execute_result"
    }
   ],
   "source": [
    "%%sql $CONNECT_DATA\n",
    "    SELECT t.passenger_name, a.city\n",
    "    FROM tickets t, airports a\n",
    "    WHERE t.ticket_no = '0005432312164'\n",
    "    AND a.airport_code in(\n",
    "        SELECT arrival_airport\n",
    "        FROM flights\n",
    "        WHERE flight_id in(\n",
    "            SELECT flight_id\n",
    "            FROM ticket_flights\n",
    "            WHERE ticket_no = '0005432312164'))"
   ]
  },
  {
   "cell_type": "code",
   "execution_count": 8,
   "id": "09215604-d374-44b5-aa21-3679f71d6086",
   "metadata": {},
   "outputs": [],
   "source": [
    "# task 1.2"
   ]
  },
  {
   "cell_type": "code",
   "execution_count": 9,
   "id": "ca0fad0b-f020-47dd-9c8d-0b2fc9b44e1b",
   "metadata": {
    "tags": []
   },
   "outputs": [
    {
     "name": "stdout",
     "output_type": "stream",
     "text": [
      "4 rows affected.\n"
     ]
    },
    {
     "data": {
      "text/html": [
       "<table>\n",
       "    <thead>\n",
       "        <tr>\n",
       "            <th>passenger_name</th>\n",
       "            <th>city</th>\n",
       "        </tr>\n",
       "    </thead>\n",
       "    <tbody>\n",
       "        <tr>\n",
       "            <td>ALEKSEY GERASIMOV</td>\n",
       "            <td>Belgorod</td>\n",
       "        </tr>\n",
       "        <tr>\n",
       "            <td>ALEKSEY GERASIMOV</td>\n",
       "            <td>Belgorod</td>\n",
       "        </tr>\n",
       "        <tr>\n",
       "            <td>ALEKSEY GERASIMOV</td>\n",
       "            <td>Moscow</td>\n",
       "        </tr>\n",
       "        <tr>\n",
       "            <td>ALEKSEY GERASIMOV</td>\n",
       "            <td>Anapa</td>\n",
       "        </tr>\n",
       "    </tbody>\n",
       "</table>"
      ],
      "text/plain": [
       "[('ALEKSEY GERASIMOV', 'Belgorod'),\n",
       " ('ALEKSEY GERASIMOV', 'Belgorod'),\n",
       " ('ALEKSEY GERASIMOV', 'Moscow'),\n",
       " ('ALEKSEY GERASIMOV', 'Anapa')]"
      ]
     },
     "execution_count": 9,
     "metadata": {},
     "output_type": "execute_result"
    }
   ],
   "source": [
    "%%sql $CONNECT_DATA\n",
    "    SELECT passenger_name, city\n",
    "    FROM tickets t, airports a, ticket_flights tf, flights f\n",
    "    WHERE t.ticket_no = '0005432312164'\n",
    "    AND t.ticket_no = tf.ticket_no\n",
    "    AND tf.flight_id = f.flight_id\n",
    "    AND f.arrival_airport = a.airport_code"
   ]
  },
  {
   "cell_type": "code",
   "execution_count": 10,
   "id": "91d404f4-cdbc-422a-b781-411e9718f5b7",
   "metadata": {
    "tags": []
   },
   "outputs": [],
   "source": [
    "# task 1.3"
   ]
  },
  {
   "cell_type": "code",
   "execution_count": 11,
   "id": "9ef2342c-b516-459d-900d-7e07ce700afc",
   "metadata": {
    "tags": []
   },
   "outputs": [
    {
     "name": "stdout",
     "output_type": "stream",
     "text": [
      "4 rows affected.\n"
     ]
    },
    {
     "data": {
      "text/html": [
       "<table>\n",
       "    <thead>\n",
       "        <tr>\n",
       "            <th>passenger_name</th>\n",
       "            <th>city</th>\n",
       "        </tr>\n",
       "    </thead>\n",
       "    <tbody>\n",
       "        <tr>\n",
       "            <td>ALEKSEY GERASIMOV</td>\n",
       "            <td>Belgorod</td>\n",
       "        </tr>\n",
       "        <tr>\n",
       "            <td>ALEKSEY GERASIMOV</td>\n",
       "            <td>Belgorod</td>\n",
       "        </tr>\n",
       "        <tr>\n",
       "            <td>ALEKSEY GERASIMOV</td>\n",
       "            <td>Moscow</td>\n",
       "        </tr>\n",
       "        <tr>\n",
       "            <td>ALEKSEY GERASIMOV</td>\n",
       "            <td>Anapa</td>\n",
       "        </tr>\n",
       "    </tbody>\n",
       "</table>"
      ],
      "text/plain": [
       "[('ALEKSEY GERASIMOV', 'Belgorod'),\n",
       " ('ALEKSEY GERASIMOV', 'Belgorod'),\n",
       " ('ALEKSEY GERASIMOV', 'Moscow'),\n",
       " ('ALEKSEY GERASIMOV', 'Anapa')]"
      ]
     },
     "execution_count": 11,
     "metadata": {},
     "output_type": "execute_result"
    }
   ],
   "source": [
    "%%sql $CONNECT_DATA\n",
    "    SELECT passenger_name, city\n",
    "    FROM tickets \n",
    "    JOIN ticket_flights USING (ticket_no)\n",
    "    JOIN flights USING (flight_id)\n",
    "    JOIN airports ON flights.arrival_airport = airports.airport_code\n",
    "    WHERE ticket_no = '0005432312164'"
   ]
  },
  {
   "cell_type": "code",
   "execution_count": 12,
   "id": "b053b91f-5440-4692-9fa6-a74a4561a2cc",
   "metadata": {},
   "outputs": [],
   "source": [
    "# task 2"
   ]
  },
  {
   "cell_type": "code",
   "execution_count": 13,
   "id": "9938e45e-e368-4e34-b4fe-825c22d92c9d",
   "metadata": {
    "tags": []
   },
   "outputs": [
    {
     "name": "stdout",
     "output_type": "stream",
     "text": [
      "7 rows affected.\n"
     ]
    },
    {
     "data": {
      "text/html": [
       "<table>\n",
       "    <thead>\n",
       "        <tr>\n",
       "            <th>departure_city</th>\n",
       "            <th>arrival_city</th>\n",
       "        </tr>\n",
       "    </thead>\n",
       "    <tbody>\n",
       "        <tr>\n",
       "            <td>Moscow</td>\n",
       "            <td>Yuzhno-Sakhalinsk</td>\n",
       "        </tr>\n",
       "        <tr>\n",
       "            <td>Moscow</td>\n",
       "            <td>Khanty-Mansiysk</td>\n",
       "        </tr>\n",
       "        <tr>\n",
       "            <td>Khanty-Mansiysk</td>\n",
       "            <td>Moscow</td>\n",
       "        </tr>\n",
       "        <tr>\n",
       "            <td>Moscow</td>\n",
       "            <td>Yekaterinburg</td>\n",
       "        </tr>\n",
       "        <tr>\n",
       "            <td>Yekaterinburg</td>\n",
       "            <td>Moscow</td>\n",
       "        </tr>\n",
       "        <tr>\n",
       "            <td>Yekaterinburg</td>\n",
       "            <td>Magnetiogorsk</td>\n",
       "        </tr>\n",
       "        <tr>\n",
       "            <td>Magnetiogorsk</td>\n",
       "            <td>Yekaterinburg</td>\n",
       "        </tr>\n",
       "    </tbody>\n",
       "</table>"
      ],
      "text/plain": [
       "[('Moscow', 'Yuzhno-Sakhalinsk'),\n",
       " ('Moscow', 'Khanty-Mansiysk'),\n",
       " ('Khanty-Mansiysk', 'Moscow'),\n",
       " ('Moscow', 'Yekaterinburg'),\n",
       " ('Yekaterinburg', 'Moscow'),\n",
       " ('Yekaterinburg', 'Magnetiogorsk'),\n",
       " ('Magnetiogorsk', 'Yekaterinburg')]"
      ]
     },
     "execution_count": 13,
     "metadata": {},
     "output_type": "execute_result"
    }
   ],
   "source": [
    "%%sql $CONNECT_DATA\n",
    "    SELECT d.city AS departure_city, a.city AS arrival_city\n",
    "    FROM Flights f\n",
    "    JOIN Ticket_flights tf USING (flight_id)\n",
    "    JOIN Tickets t USING (ticket_no)\n",
    "    JOIN Airports d ON f.departure_airport = d.airport_code\n",
    "    JOIN Airports a ON f.arrival_airport = a.airport_code\n",
    "    WHERE t.passenger_name = 'ELLA DMITRIEVA'"
   ]
  },
  {
   "cell_type": "code",
   "execution_count": 14,
   "id": "8beb5a65-3f7c-4b63-9054-85c56fee5c34",
   "metadata": {
    "tags": []
   },
   "outputs": [],
   "source": [
    "# task 3"
   ]
  },
  {
   "cell_type": "code",
   "execution_count": 15,
   "id": "87ce1983-1518-4f00-a4df-004217a7c67c",
   "metadata": {
    "tags": []
   },
   "outputs": [
    {
     "name": "stdout",
     "output_type": "stream",
     "text": [
      "9 rows affected.\n"
     ]
    },
    {
     "data": {
      "text/html": [
       "<table>\n",
       "    <thead>\n",
       "        <tr>\n",
       "            <th>model</th>\n",
       "            <th>seats</th>\n",
       "        </tr>\n",
       "    </thead>\n",
       "    <tbody>\n",
       "        <tr>\n",
       "            <td>Boeing 777-300</td>\n",
       "            <td>402</td>\n",
       "        </tr>\n",
       "        <tr>\n",
       "            <td>Boeing 767-300</td>\n",
       "            <td>222</td>\n",
       "        </tr>\n",
       "        <tr>\n",
       "            <td>Airbus A321-200</td>\n",
       "            <td>170</td>\n",
       "        </tr>\n",
       "        <tr>\n",
       "            <td>Airbus A320-200</td>\n",
       "            <td>140</td>\n",
       "        </tr>\n",
       "        <tr>\n",
       "            <td>Boeing 737-300</td>\n",
       "            <td>130</td>\n",
       "        </tr>\n",
       "        <tr>\n",
       "            <td>Airbus A319-100</td>\n",
       "            <td>116</td>\n",
       "        </tr>\n",
       "        <tr>\n",
       "            <td>Sukhoi Superjet-100</td>\n",
       "            <td>97</td>\n",
       "        </tr>\n",
       "        <tr>\n",
       "            <td>Bombardier CRJ-200</td>\n",
       "            <td>50</td>\n",
       "        </tr>\n",
       "        <tr>\n",
       "            <td>Cessna 208 Caravan</td>\n",
       "            <td>12</td>\n",
       "        </tr>\n",
       "    </tbody>\n",
       "</table>"
      ],
      "text/plain": [
       "[('Boeing 777-300', 402),\n",
       " ('Boeing 767-300', 222),\n",
       " ('Airbus A321-200', 170),\n",
       " ('Airbus A320-200', 140),\n",
       " ('Boeing 737-300', 130),\n",
       " ('Airbus A319-100', 116),\n",
       " ('Sukhoi Superjet-100', 97),\n",
       " ('Bombardier CRJ-200', 50),\n",
       " ('Cessna 208 Caravan', 12)]"
      ]
     },
     "execution_count": 15,
     "metadata": {},
     "output_type": "execute_result"
    }
   ],
   "source": [
    "%%sql $CONNECT_DATA\n",
    "    SELECT model, Count(seat_no) seats\n",
    "    FROM aircrafts a, seats s\n",
    "    WHERE a.aircraft_code = s.aircraft_code\n",
    "    Group by model\n",
    "    Order by seats desc"
   ]
  }
 ],
 "metadata": {
  "kernelspec": {
   "display_name": "Python 3 (ipykernel)",
   "language": "python",
   "name": "python3"
  },
  "language_info": {
   "codemirror_mode": {
    "name": "ipython",
    "version": 3
   },
   "file_extension": ".py",
   "mimetype": "text/x-python",
   "name": "python",
   "nbconvert_exporter": "python",
   "pygments_lexer": "ipython3",
   "version": "3.10.9"
  }
 },
 "nbformat": 4,
 "nbformat_minor": 5
}
